{
 "cells": [
  {
   "attachments": {},
   "cell_type": "markdown",
   "metadata": {},
   "source": [
    "# SDFusion: Text-guided Generation (txt2shape)\n",
    "\n",
    "### TODO: add sample results or teaser images"
   ]
  },
  {
   "cell_type": "code",
   "execution_count": 2,
   "metadata": {},
   "outputs": [],
   "source": [
    "# first set up which gpu to use\n",
    "import os\n",
    "gpu_ids = 0\n",
    "os.environ[\"CUDA_VISIBLE_DEVICES\"] = f\"{gpu_ids}\""
   ]
  },
  {
   "cell_type": "code",
   "execution_count": 3,
   "metadata": {},
   "outputs": [
    {
     "name": "stdout",
     "output_type": "stream",
     "text": [
      "True\n"
     ]
    }
   ],
   "source": [
    "# import libraries\n",
    "import numpy as np\n",
    "from IPython.display import Image as ipy_image\n",
    "from IPython.display import display\n",
    "from termcolor import colored, cprint\n",
    "\n",
    "import torch\n",
    "print(torch.cuda.is_available())\n",
    "import torch.backends.cudnn as cudnn\n",
    "cudnn.benchmark = True\n",
    "import torchvision.utils as vutils\n",
    "\n",
    "from models.base_model import create_model\n",
    "from utils.util_3d import render_sdf, render_mesh, sdf_to_mesh, save_mesh_as_gif\n",
    "\n",
    "%load_ext autoreload\n",
    "%autoreload 2"
   ]
  },
  {
   "cell_type": "code",
   "execution_count": 4,
   "metadata": {},
   "outputs": [
    {
     "name": "stdout",
     "output_type": "stream",
     "text": [
      "[*] SDFusionText2ShapeOption initialized.\n"
     ]
    }
   ],
   "source": [
    "# options for the model. please check `utils/demo_util.py` for more details\n",
    "from utils.demo_util import SDFusionText2ShapeOpt\n",
    "\n",
    "seed = 2023\n",
    "opt = SDFusionText2ShapeOpt(gpu_ids=gpu_ids, seed=seed)\n",
    "device = opt.device"
   ]
  },
  {
   "cell_type": "code",
   "execution_count": 5,
   "metadata": {},
   "outputs": [],
   "source": [
    "# enable proxy for huggingface\n",
    "\n",
    "import subprocess\n",
    "import os\n",
    "\n",
    "result = subprocess.run('bash -c \"source /etc/network_turbo && env | grep proxy\"', shell=True, capture_output=True, text=True)\n",
    "output = result.stdout\n",
    "for line in output.splitlines():\n",
    "    if '=' in line:\n",
    "        var, value = line.split('=', 1)\n",
    "        os.environ[var] = value"
   ]
  },
  {
   "cell_type": "code",
   "execution_count": 6,
   "metadata": {},
   "outputs": [
    {
     "name": "stdout",
     "output_type": "stream",
     "text": [
      "Working with z of shape (1, 3, 16, 16, 16) = 12288 dimensions.\n",
      "\u001b[34m[*] VQVAE: weight successfully load from: /root/autodl-tmp/SDFusion/logs_home/continue-2024-03-27T11-26-32-vqvae-snet-all-res64-LR1e-4-T0.2-release/ckpt/vqvae_epoch-best.pth\u001b[0m\n",
      "\u001b[34m[*] weight successfully load from: /root/autodl-tmp/SDFusion/logs_home/continue-2024-04-05T17-15-19-sdfusion-txt2shape-text2shape-all-LR1e-5-clean-code/ckpt/df_steps-latest.pth\u001b[0m\n",
      "\u001b[34m[*] setting ddim_steps=100\u001b[0m\n",
      "\u001b[34m[*] Model has been created: SDFusion-Text2Shape-Model\u001b[0m\n",
      "\u001b[36m[*] \"SDFusion-Text2Shape-Model\" loaded.\u001b[0m\n"
     ]
    }
   ],
   "source": [
    "# initialize SDFusion model\n",
    "# ckpt_path = 'saved_ckpt/sdfusion-txt2shape.pth'\n",
    "ckpt_path = '/root/autodl-tmp/SDFusion/logs_home/continue-2024-04-05T17-15-19-sdfusion-txt2shape-text2shape-all-LR1e-5-clean-code/ckpt/df_steps-latest.pth'\n",
    "vqvae_path = '/root/autodl-tmp/SDFusion/logs_home/continue-2024-03-27T11-26-32-vqvae-snet-all-res64-LR1e-4-T0.2-release/ckpt/vqvae_epoch-best.pth'\n",
    "opt.init_model_args(ckpt_path=ckpt_path, vq_ckpt_path=vqvae_path)\n",
    "\n",
    "SDFusion = create_model(opt)\n",
    "cprint(f'[*] \"{SDFusion.name()}\" loaded.', 'cyan')"
   ]
  },
  {
   "attachments": {},
   "cell_type": "markdown",
   "metadata": {},
   "source": [
    "## SDFusion: text-guided generation (txt2shape)"
   ]
  },
  {
   "cell_type": "code",
   "execution_count": 7,
   "metadata": {},
   "outputs": [
    {
     "ename": "FileNotFoundError",
     "evalue": "[Errno 2] No such file or directory: '/root/autodl-tmp/SDFusion/data/ShapeNet/SoftNetModels/01/a3/model.obj'",
     "output_type": "error",
     "traceback": [
      "\u001b[0;31m---------------------------------------------------------------------------\u001b[0m",
      "\u001b[0;31mFileNotFoundError\u001b[0m                         Traceback (most recent call last)",
      "Cell \u001b[0;32mIn[7], line 6\u001b[0m\n\u001b[1;32m      4\u001b[0m mesh_path \u001b[38;5;241m=\u001b[39m [\u001b[38;5;124m'\u001b[39m\u001b[38;5;124m/root/autodl-tmp/SDFusion/data/ShapeNet/SoftNetModels/01/a3/model.obj\u001b[39m\u001b[38;5;124m'\u001b[39m]\n\u001b[1;32m      5\u001b[0m \u001b[38;5;66;03m# mesh_path = ['/root/autodl-tmp/SDFusion/test_results_pretrained_small_dset/obj/txt2shape-articulated zigzag fold-based 1dof directional bending soft actuator-35.obj']\u001b[39;00m\n\u001b[0;32m----> 6\u001b[0m mesh \u001b[38;5;241m=\u001b[39m \u001b[43mpytorch3d\u001b[49m\u001b[38;5;241;43m.\u001b[39;49m\u001b[43mio\u001b[49m\u001b[38;5;241;43m.\u001b[39;49m\u001b[43mload_objs_as_meshes\u001b[49m\u001b[43m(\u001b[49m\u001b[43mmesh_path\u001b[49m\u001b[43m,\u001b[49m\u001b[43m \u001b[49m\u001b[43mdevice\u001b[49m\u001b[38;5;241;43m=\u001b[39;49m\u001b[43mdevice\u001b[49m\u001b[43m)\u001b[49m\n\u001b[1;32m      7\u001b[0m \u001b[38;5;66;03m# resize the mesh\u001b[39;00m\n\u001b[1;32m      8\u001b[0m \u001b[38;5;66;03m# scale the largest dimension to 1\u001b[39;00m\n\u001b[1;32m      9\u001b[0m bounding_box \u001b[38;5;241m=\u001b[39m mesh\u001b[38;5;241m.\u001b[39mget_bounding_boxes()\n",
      "File \u001b[0;32m~/autodl-tmp/pytorch3d/pytorch3d/io/obj_io.py:267\u001b[0m, in \u001b[0;36mload_objs_as_meshes\u001b[0;34m(files, device, load_textures, create_texture_atlas, texture_atlas_size, texture_wrap, path_manager)\u001b[0m\n\u001b[1;32m    265\u001b[0m mesh_list \u001b[38;5;241m=\u001b[39m []\n\u001b[1;32m    266\u001b[0m \u001b[38;5;28;01mfor\u001b[39;00m f_obj \u001b[38;5;129;01min\u001b[39;00m files:\n\u001b[0;32m--> 267\u001b[0m     verts, faces, aux \u001b[38;5;241m=\u001b[39m \u001b[43mload_obj\u001b[49m\u001b[43m(\u001b[49m\n\u001b[1;32m    268\u001b[0m \u001b[43m        \u001b[49m\u001b[43mf_obj\u001b[49m\u001b[43m,\u001b[49m\n\u001b[1;32m    269\u001b[0m \u001b[43m        \u001b[49m\u001b[43mload_textures\u001b[49m\u001b[38;5;241;43m=\u001b[39;49m\u001b[43mload_textures\u001b[49m\u001b[43m,\u001b[49m\n\u001b[1;32m    270\u001b[0m \u001b[43m        \u001b[49m\u001b[43mcreate_texture_atlas\u001b[49m\u001b[38;5;241;43m=\u001b[39;49m\u001b[43mcreate_texture_atlas\u001b[49m\u001b[43m,\u001b[49m\n\u001b[1;32m    271\u001b[0m \u001b[43m        \u001b[49m\u001b[43mtexture_atlas_size\u001b[49m\u001b[38;5;241;43m=\u001b[39;49m\u001b[43mtexture_atlas_size\u001b[49m\u001b[43m,\u001b[49m\n\u001b[1;32m    272\u001b[0m \u001b[43m        \u001b[49m\u001b[43mtexture_wrap\u001b[49m\u001b[38;5;241;43m=\u001b[39;49m\u001b[43mtexture_wrap\u001b[49m\u001b[43m,\u001b[49m\n\u001b[1;32m    273\u001b[0m \u001b[43m        \u001b[49m\u001b[43mpath_manager\u001b[49m\u001b[38;5;241;43m=\u001b[39;49m\u001b[43mpath_manager\u001b[49m\u001b[43m,\u001b[49m\n\u001b[1;32m    274\u001b[0m \u001b[43m    \u001b[49m\u001b[43m)\u001b[49m\n\u001b[1;32m    275\u001b[0m     tex \u001b[38;5;241m=\u001b[39m \u001b[38;5;28;01mNone\u001b[39;00m\n\u001b[1;32m    276\u001b[0m     \u001b[38;5;28;01mif\u001b[39;00m create_texture_atlas:\n\u001b[1;32m    277\u001b[0m         \u001b[38;5;66;03m# TexturesAtlas type\u001b[39;00m\n",
      "File \u001b[0;32m~/autodl-tmp/pytorch3d/pytorch3d/io/obj_io.py:225\u001b[0m, in \u001b[0;36mload_obj\u001b[0;34m(f, load_textures, create_texture_atlas, texture_atlas_size, texture_wrap, device, path_manager)\u001b[0m\n\u001b[1;32m    223\u001b[0m \u001b[38;5;28;01mif\u001b[39;00m path_manager \u001b[38;5;129;01mis\u001b[39;00m \u001b[38;5;28;01mNone\u001b[39;00m:\n\u001b[1;32m    224\u001b[0m     path_manager \u001b[38;5;241m=\u001b[39m PathManager()\n\u001b[0;32m--> 225\u001b[0m \u001b[38;5;28;01mwith\u001b[39;00m \u001b[43m_open_file\u001b[49m\u001b[43m(\u001b[49m\u001b[43mf\u001b[49m\u001b[43m,\u001b[49m\u001b[43m \u001b[49m\u001b[43mpath_manager\u001b[49m\u001b[43m,\u001b[49m\u001b[43m \u001b[49m\u001b[38;5;124;43m\"\u001b[39;49m\u001b[38;5;124;43mr\u001b[39;49m\u001b[38;5;124;43m\"\u001b[39;49m\u001b[43m)\u001b[49m \u001b[38;5;28;01mas\u001b[39;00m f:\n\u001b[1;32m    226\u001b[0m     \u001b[38;5;28;01mreturn\u001b[39;00m _load_obj(\n\u001b[1;32m    227\u001b[0m         f,\n\u001b[1;32m    228\u001b[0m         data_dir\u001b[38;5;241m=\u001b[39mdata_dir,\n\u001b[0;32m   (...)\u001b[0m\n\u001b[1;32m    234\u001b[0m         device\u001b[38;5;241m=\u001b[39mdevice,\n\u001b[1;32m    235\u001b[0m     )\n",
      "File \u001b[0;32m~/autodl-tmp/pytorch3d/pytorch3d/io/utils.py:28\u001b[0m, in \u001b[0;36m_open_file\u001b[0;34m(f, path_manager, mode)\u001b[0m\n\u001b[1;32m     25\u001b[0m \u001b[38;5;28;01mdef\u001b[39;00m \u001b[38;5;21m_open_file\u001b[39m(f, path_manager: PathManager, mode: \u001b[38;5;28mstr\u001b[39m \u001b[38;5;241m=\u001b[39m \u001b[38;5;124m\"\u001b[39m\u001b[38;5;124mr\u001b[39m\u001b[38;5;124m\"\u001b[39m) \u001b[38;5;241m-\u001b[39m\u001b[38;5;241m>\u001b[39m ContextManager[IO]:\n\u001b[1;32m     26\u001b[0m     \u001b[38;5;28;01mif\u001b[39;00m \u001b[38;5;28misinstance\u001b[39m(f, \u001b[38;5;28mstr\u001b[39m):\n\u001b[1;32m     27\u001b[0m         \u001b[38;5;66;03m# pyre-fixme[6]: For 2nd argument expected `Union[typing_extensions.Literal['...\u001b[39;00m\n\u001b[0;32m---> 28\u001b[0m         f \u001b[38;5;241m=\u001b[39m \u001b[43mpath_manager\u001b[49m\u001b[38;5;241;43m.\u001b[39;49m\u001b[43mopen\u001b[49m\u001b[43m(\u001b[49m\u001b[43mf\u001b[49m\u001b[43m,\u001b[49m\u001b[43m \u001b[49m\u001b[43mmode\u001b[49m\u001b[43m)\u001b[49m\n\u001b[1;32m     29\u001b[0m         \u001b[38;5;28;01mreturn\u001b[39;00m contextlib\u001b[38;5;241m.\u001b[39mclosing(f)\n\u001b[1;32m     30\u001b[0m     \u001b[38;5;28;01melif\u001b[39;00m \u001b[38;5;28misinstance\u001b[39m(f, pathlib\u001b[38;5;241m.\u001b[39mPath):\n",
      "File \u001b[0;32m~/miniconda3/envs/sdfusion/lib/python3.8/site-packages/iopath/common/file_io.py:1012\u001b[0m, in \u001b[0;36mPathManager.open\u001b[0;34m(self, path, mode, buffering, **kwargs)\u001b[0m\n\u001b[1;32m    995\u001b[0m \u001b[38;5;250m\u001b[39m\u001b[38;5;124;03m\"\"\"\u001b[39;00m\n\u001b[1;32m    996\u001b[0m \u001b[38;5;124;03mOpen a stream to a URI, similar to the built-in `open`.\u001b[39;00m\n\u001b[1;32m    997\u001b[0m \n\u001b[0;32m   (...)\u001b[0m\n\u001b[1;32m   1009\u001b[0m \u001b[38;5;124;03m    file: a file-like object.\u001b[39;00m\n\u001b[1;32m   1010\u001b[0m \u001b[38;5;124;03m\"\"\"\u001b[39;00m\n\u001b[1;32m   1011\u001b[0m handler \u001b[38;5;241m=\u001b[39m \u001b[38;5;28mself\u001b[39m\u001b[38;5;241m.\u001b[39m__get_path_handler(path)\n\u001b[0;32m-> 1012\u001b[0m bret \u001b[38;5;241m=\u001b[39m \u001b[43mhandler\u001b[49m\u001b[38;5;241;43m.\u001b[39;49m\u001b[43m_open\u001b[49m\u001b[43m(\u001b[49m\u001b[43mpath\u001b[49m\u001b[43m,\u001b[49m\u001b[43m \u001b[49m\u001b[43mmode\u001b[49m\u001b[43m,\u001b[49m\u001b[43m \u001b[49m\u001b[43mbuffering\u001b[49m\u001b[38;5;241;43m=\u001b[39;49m\u001b[43mbuffering\u001b[49m\u001b[43m,\u001b[49m\u001b[43m \u001b[49m\u001b[38;5;241;43m*\u001b[39;49m\u001b[38;5;241;43m*\u001b[39;49m\u001b[43mkwargs\u001b[49m\u001b[43m)\u001b[49m  \u001b[38;5;66;03m# type: ignore\u001b[39;00m\n\u001b[1;32m   1014\u001b[0m kvs \u001b[38;5;241m=\u001b[39m \u001b[38;5;28mself\u001b[39m\u001b[38;5;241m.\u001b[39m__get_open_keys(path, mode, buffering)\n\u001b[1;32m   1015\u001b[0m \u001b[38;5;28mself\u001b[39m\u001b[38;5;241m.\u001b[39m__log_tmetry_keys(handler, kvs)\n",
      "File \u001b[0;32m~/miniconda3/envs/sdfusion/lib/python3.8/site-packages/iopath/common/file_io.py:604\u001b[0m, in \u001b[0;36mNativePathHandler._open\u001b[0;34m(self, path, mode, buffering, encoding, errors, newline, closefd, opener, **kwargs)\u001b[0m\n\u001b[1;32m    564\u001b[0m \u001b[38;5;250m\u001b[39m\u001b[38;5;124;03m\"\"\"\u001b[39;00m\n\u001b[1;32m    565\u001b[0m \u001b[38;5;124;03mOpen a path.\u001b[39;00m\n\u001b[1;32m    566\u001b[0m \n\u001b[0;32m   (...)\u001b[0m\n\u001b[1;32m    601\u001b[0m \u001b[38;5;124;03m    file: a file-like object.\u001b[39;00m\n\u001b[1;32m    602\u001b[0m \u001b[38;5;124;03m\"\"\"\u001b[39;00m\n\u001b[1;32m    603\u001b[0m \u001b[38;5;28mself\u001b[39m\u001b[38;5;241m.\u001b[39m_check_kwargs(kwargs)\n\u001b[0;32m--> 604\u001b[0m \u001b[38;5;28;01mreturn\u001b[39;00m \u001b[38;5;28;43mopen\u001b[39;49m\u001b[43m(\u001b[49m\u001b[43m  \u001b[49m\u001b[38;5;66;43;03m# type: ignore\u001b[39;49;00m\n\u001b[1;32m    605\u001b[0m \u001b[43m    \u001b[49m\u001b[38;5;28;43mself\u001b[39;49m\u001b[38;5;241;43m.\u001b[39;49m\u001b[43m_get_path_with_cwd\u001b[49m\u001b[43m(\u001b[49m\u001b[43mpath\u001b[49m\u001b[43m)\u001b[49m\u001b[43m,\u001b[49m\n\u001b[1;32m    606\u001b[0m \u001b[43m    \u001b[49m\u001b[43mmode\u001b[49m\u001b[43m,\u001b[49m\n\u001b[1;32m    607\u001b[0m \u001b[43m    \u001b[49m\u001b[43mbuffering\u001b[49m\u001b[38;5;241;43m=\u001b[39;49m\u001b[43mbuffering\u001b[49m\u001b[43m,\u001b[49m\n\u001b[1;32m    608\u001b[0m \u001b[43m    \u001b[49m\u001b[43mencoding\u001b[49m\u001b[38;5;241;43m=\u001b[39;49m\u001b[43mencoding\u001b[49m\u001b[43m,\u001b[49m\n\u001b[1;32m    609\u001b[0m \u001b[43m    \u001b[49m\u001b[43merrors\u001b[49m\u001b[38;5;241;43m=\u001b[39;49m\u001b[43merrors\u001b[49m\u001b[43m,\u001b[49m\n\u001b[1;32m    610\u001b[0m \u001b[43m    \u001b[49m\u001b[43mnewline\u001b[49m\u001b[38;5;241;43m=\u001b[39;49m\u001b[43mnewline\u001b[49m\u001b[43m,\u001b[49m\n\u001b[1;32m    611\u001b[0m \u001b[43m    \u001b[49m\u001b[43mclosefd\u001b[49m\u001b[38;5;241;43m=\u001b[39;49m\u001b[43mclosefd\u001b[49m\u001b[43m,\u001b[49m\n\u001b[1;32m    612\u001b[0m \u001b[43m    \u001b[49m\u001b[43mopener\u001b[49m\u001b[38;5;241;43m=\u001b[39;49m\u001b[43mopener\u001b[49m\u001b[43m,\u001b[49m\n\u001b[1;32m    613\u001b[0m \u001b[43m\u001b[49m\u001b[43m)\u001b[49m\n",
      "\u001b[0;31mFileNotFoundError\u001b[0m: [Errno 2] No such file or directory: '/root/autodl-tmp/SDFusion/data/ShapeNet/SoftNetModels/01/a3/model.obj'"
     ]
    }
   ],
   "source": [
    "import pytorch3d\n",
    "\n",
    "# load a mesh\n",
    "mesh_path = ['/root/autodl-tmp/SDFusion/data/ShapeNet/SoftNetModels/01/a3/model.obj']\n",
    "# mesh_path = ['/root/autodl-tmp/SDFusion/test_results_pretrained_small_dset/obj/txt2shape-articulated zigzag fold-based 1dof directional bending soft actuator-35.obj']\n",
    "mesh = pytorch3d.io.load_objs_as_meshes(mesh_path, device=device)\n",
    "# resize the mesh\n",
    "# scale the largest dimension to 1\n",
    "bounding_box = mesh.get_bounding_boxes()\n",
    "max_size = (bounding_box[:, :, 1] - bounding_box[:, :, 0]).max()\n",
    "mesh = mesh.scale_verts(1.0 / max_size.item())\n",
    "# move the mesh to the center\n",
    "center = mesh.get_bounding_boxes().mean(2)[0]\n",
    "mesh = mesh.offset_verts(-center)\n",
    "\n",
    "mesh_gen = mesh[0]\n",
    "# vis as gif\n",
    "gen_name = f'/root/autodl-tmp/SDFusion/test_results_pretrained_small_dset/gt_gifs/a.gif'\n",
    "save_mesh_as_gif(SDFusion.renderer, mesh_gen, nrow=3, out_name=gen_name)\n",
    "\n",
    "for name in [gen_name]:\n",
    "    display(ipy_image(name))"
   ]
  },
  {
   "cell_type": "code",
   "execution_count": 9,
   "metadata": {},
   "outputs": [
    {
     "name": "stdout",
     "output_type": "stream",
     "text": [
      "Generated for a9.\n"
     ]
    },
    {
     "data": {
      "image/gif": "[encoded data removed]",
      "text/plain": [
       "<IPython.core.display.Image object>"
      ]
     },
     "metadata": {},
     "output_type": "display_data"
    }
   ],
   "source": [
    "import pytorch3d\n",
    "from utils.util_3d import rotate_mesh\n",
    "\n",
    "# load a mesh\n",
    "mesh_dir = '/root/autodl-tmp/SDFusion/data/ShapeNet/ShapeNetCore.v1/01'\n",
    "\n",
    "for folder in os.listdir(mesh_dir):\n",
    "    if folder.startswith('a')\n",
    "\n",
    "        mesh_path = [os.path.join(mesh_dir, folder, 'model.obj')]\n",
    "        mesh = pytorch3d.io.load_objs_as_meshes(mesh_path, device=device)\n",
    "        # resize the mesh\n",
    "        # scale the largest dimension to 1\n",
    "        bounding_box = mesh.get_bounding_boxes()\n",
    "        max_size = (bounding_box[:, :, 1] - bounding_box[:, :, 0]).max()\n",
    "        mesh = mesh.scale_verts(1.0 / max_size.item())\n",
    "        # move the mesh to the center\n",
    "        center = mesh.get_bounding_boxes().mean(2)[0]\n",
    "        mesh = mesh.offset_verts(-center)\n",
    "\n",
    "        mesh_gen = mesh[0]\n",
    "        # vis as gif\n",
    "        gen_name = f'/root/autodl-tmp/SDFusion/test_ground_truth/gifs/{folder}.gif'\n",
    "        save_mesh_as_gif(SDFusion.renderer, mesh_gen, nrow=3, out_name=gen_name)\n",
    "\n",
    "        for name in [gen_name]:\n",
    "            display(ipy_image(name))\n",
    "\n",
    "        # make mesh upside down and render\n",
    "        mesh_gen = rotate_mesh(mesh_gen, axis='X', angle=180)\n",
    "        gen_name = f'/root/autodl-tmp/SDFusion/test_ground_truth/gifs/{folder}_upside_down.gif'\n",
    "        save_mesh_as_gif(SDFusion.renderer, mesh_gen, nrow=3, out_name=gen_name)\n",
    "\n",
    "        # clear output in the notebook\n",
    "        from IPython.display import clear_output\n",
    "        clear_output()\n",
    "        print(f\"Generated for {folder}.\")\n",
    "        for name in [gen_name]:\n",
    "            display(ipy_image(name))"
   ]
  }
 ],
 "metadata": {
  "kernelspec": {
   "display_name": "sdf",
   "language": "python",
   "name": "python3"
  },
  "language_info": {
   "codemirror_mode": {
    "name": "ipython",
    "version": 3
   },
   "file_extension": ".py",
   "mimetype": "text/x-python",
   "name": "python",
   "nbconvert_exporter": "python",
   "pygments_lexer": "ipython3",
   "version": "3.8.19"
  },
  "vscode": {
   "interpreter": {
    "hash": "c9bb85e944c303a90ba1b7f3901817f7bc3ecb5f736863b2299a6fa67a7b3c89"
   }
  }
 },
 "nbformat": 4,
 "nbformat_minor": 2
}
