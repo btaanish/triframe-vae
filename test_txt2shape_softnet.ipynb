{
 "cells": [
  {
   "attachments": {},
   "cell_type": "markdown",
   "metadata": {},
   "source": [
    "# SDFusion: Text-guided Generation (txt2shape)\n",
    "\n",
    "### TODO: add sample results or teaser images"
   ]
  },
  {
   "cell_type": "code",
   "execution_count": 1,
   "metadata": {},
   "outputs": [],
   "source": [
    "# first set up which gpu to use\n",
    "import os\n",
    "gpu_ids = 0\n",
    "os.environ[\"CUDA_VISIBLE_DEVICES\"] = f\"{gpu_ids}\""
   ]
  },
  {
   "cell_type": "markdown",
   "metadata": {},
   "source": []
  },
  {
   "cell_type": "code",
   "execution_count": 2,
   "metadata": {},
   "outputs": [
    {
     "name": "stderr",
     "output_type": "stream",
     "text": [
      "/root/miniconda3/envs/sdfusion/lib/python3.8/site-packages/tqdm/auto.py:21: TqdmWarning: IProgress not found. Please update jupyter and ipywidgets. See https://ipywidgets.readthedocs.io/en/stable/user_install.html\n",
      "  from .autonotebook import tqdm as notebook_tqdm\n"
     ]
    },
    {
     "name": "stdout",
     "output_type": "stream",
     "text": [
      "True\n"
     ]
    }
   ],
   "source": [
    "# import libraries\n",
    "import numpy as np\n",
    "from IPython.display import Image as ipy_image\n",
    "from IPython.display import display\n",
    "from termcolor import colored, cprint\n",
    "\n",
    "import torch\n",
    "print(torch.cuda.is_available())\n",
    "import torch.backends.cudnn as cudnn\n",
    "cudnn.benchmark = True\n",
    "import torchvision.utils as vutils\n",
    "\n",
    "from models.base_model import create_model\n",
    "from utils.util_3d import render_sdf, render_mesh, sdf_to_mesh, save_mesh_as_gif\n",
    "\n",
    "%load_ext autoreload\n",
    "%autoreload 2"
   ]
  },
  {
   "cell_type": "code",
   "execution_count": 3,
   "metadata": {},
   "outputs": [
    {
     "name": "stdout",
     "output_type": "stream",
     "text": [
      "[*] SDFusionText2ShapeOption initialized.\n"
     ]
    }
   ],
   "source": [
    "# options for the model. please check `utils/demo_util.py` for more details\n",
    "from utils.demo_util import SDFusionText2ShapeOpt\n",
    "\n",
    "seed = 2023\n",
    "opt = SDFusionText2ShapeOpt(gpu_ids=gpu_ids, seed=seed)\n",
    "device = opt.device"
   ]
  },
  {
   "cell_type": "code",
   "execution_count": 4,
   "metadata": {},
   "outputs": [],
   "source": [
    "# enable proxy for huggingface\n",
    "\n",
    "import subprocess\n",
    "import os\n",
    "\n",
    "result = subprocess.run('bash -c \"source /etc/network_turbo && env | grep proxy\"', shell=True, capture_output=True, text=True)\n",
    "output = result.stdout\n",
    "for line in output.splitlines():\n",
    "    if '=' in line:\n",
    "        var, value = line.split('=', 1)\n",
    "        os.environ[var] = value"
   ]
  },
  {
   "cell_type": "code",
   "execution_count": 15,
   "metadata": {},
   "outputs": [
    {
     "name": "stdout",
     "output_type": "stream",
     "text": [
      "Working with z of shape (1, 3, 16, 16, 16) = 12288 dimensions.\n",
      "\u001b[34m[*] VQVAE: weight successfully load from: /root/autodl-tmp/SDFusion/logs_home/continue-2024-04-19T14-51-01-vqvae-snet-all-res64-LR1e-5-T0.2-release/ckpt/vqvae_epoch-best.pth\u001b[0m\n",
      "\u001b[34m[*] weight successfully load from: /root/autodl-tmp/SDFusion/logs_home/2024-04-20T01-01-11-sdfusion-txt2shape-text2shape-all-LR1e-5-clean-code/ckpt/df_steps-latest.pth\u001b[0m\n",
      "\u001b[34m[*] setting ddim_steps=100\u001b[0m\n",
      "\u001b[34m[*] Model has been created: SDFusion-Text2Shape-Model\u001b[0m\n",
      "\u001b[36m[*] \"SDFusion-Text2Shape-Model\" loaded.\u001b[0m\n"
     ]
    }
   ],
   "source": [
    "# initialize SDFusion model\n",
    "# ckpt_path = 'saved_ckpt/sdfusion-txt2shape.pth'\n",
    "# ckpt_path = '/root/autodl-tmp/SDFusion/logs_home/continue-2024-04-05T17-15-19-sdfusion-txt2shape-text2shape-all-LR1e-5-clean-code/ckpt/df_steps-latest.pth'\n",
    "# ckpt_path = '/root/autodl-tmp/SDFusion/logs_home/2024-03-27T14-52-09-sdfusion-txt2shape-text2shape-all-LR1e-5-clean-code/ckpt/df_steps-latest.pth'\n",
    "# vqvae_path = '/root/autodl-tmp/SDFusion/logs_home/continue-2024-03-27T11-26-32-vqvae-snet-all-res64-LR1e-4-T0.2-release/ckpt/vqvae_epoch-best.pth'\n",
    "\n",
    "ckpt_path = '/root/autodl-tmp/SDFusion/logs_home/2024-04-20T01-01-11-sdfusion-txt2shape-text2shape-all-LR1e-5-clean-code/ckpt/df_steps-latest.pth'\n",
    "# ckpt_path = '/root/autodl-tmp/SDFusion/logs_home/continue-2024-04-19T21-55-32-sdfusion-txt2shape-text2shape-all-LR1e-5-clean-code/ckpt/df_steps-latest.pth'\n",
    "vqvae_path = '/root/autodl-tmp/SDFusion/logs_home/continue-2024-04-19T14-51-01-vqvae-snet-all-res64-LR1e-5-T0.2-release/ckpt/vqvae_epoch-best.pth'\n",
    "opt.init_model_args(ckpt_path=ckpt_path, vq_ckpt_path=vqvae_path)\n",
    "\n",
    "SDFusion = create_model(opt)\n",
    "cprint(f'[*] \"{SDFusion.name()}\" loaded.', 'cyan')"
   ]
  },
  {
   "attachments": {},
   "cell_type": "markdown",
   "metadata": {},
   "source": [
    "## SDFusion: text-guided generation (txt2shape)"
   ]
  },
  {
   "cell_type": "code",
   "execution_count": 13,
   "metadata": {},
   "outputs": [
    {
     "name": "stdout",
     "output_type": "stream",
     "text": [
      "Number of test actuator descriptions: 101\n"
     ]
    }
   ],
   "source": [
    "test_actuator_descriptions = [\n",
    "    'spiral off axis variable segmented bending inner fold based 1dof soft actuator',\n",
    "    'long fold based 1 dof pure bending soft actuator',\n",
    "    'short circular fold based 1 dof pure bending soft actuator',\n",
    "    'dome shaped cylindrical fold based normal bidirectional 2dof bending soft actuator',\n",
    "    'long bellow type 1 dof pure bending soft actuator',\n",
    "    'dome shaped cylindrical fold based normal bidirectional 2dof variable bending short soft actuator',\n",
    "    'multi-layer spiral segmented variable 1dof soft actuator with internal folds',\n",
    "    'extended linear fold-based 1dof pure bending soft actuator',\n",
    "    'compact spiral fold-based 1dof variable bending soft actuator',\n",
    "    'curved bellow type 2 dof bidirectional bending soft actuator',\n",
    "    'elongated accordion fold-based 1dof bending soft actuator',\n",
    "    'twisted ribbon style 1dof variable length soft actuator',\n",
    "    'accordion pleat-based 1 dof linear bending soft actuator',\n",
    "    'spherical articulated fold-based 3dof omnidirectional soft actuator',\n",
    "    'zigzag crease fold-based 1dof precise bending soft actuator',\n",
    "    'circular segmented pleat-based 2 dof radial bending soft actuator',\n",
    "    'helical coiled 1dof continuous bending soft actuator',\n",
    "    'layered fan fold-based 1dof controlled bending soft actuator',\n",
    "    'expanding circle fold-based 2dof dynamic bending soft actuator',\n",
    "    'conical spiral fold-based 1 dof gradual bending soft actuator',\n",
    "    'triangular pleated 1dof angular bending soft actuator',\n",
    "    'double helix segment-based 2dof rotational bending soft actuator',\n",
    "    'variable pitch bellow type 1dof adaptive bending soft actuator',\n",
    "    'slotted linear fold-based 1 dof stiff bending soft actuator',\n",
    "    'perforated cylindrical fold-based 1dof focused bending soft actuator',\n",
    "    'interlocking square fold-based 2dof complex bending soft actuator',\n",
    "    'wide range spiral segmented 1dof flexing soft actuator',\n",
    "    'short linear segmented 1dof precision bending soft actuator',\n",
    "    'longitudinal accordion-style 1dof elastic bending soft actuator',\n",
    "    'cross-linked dome shaped 2dof expansive bending soft actuator',\n",
    "    'dual-layer dome shaped fold-based 2dof variable soft actuator',\n",
    "    'segmented ribbon fold-based 1dof controlled bending soft actuator',\n",
    "    'narrow spiral off-axis segmented 1dof soft actuator',\n",
    "    'parallel pleat-based 1dof uniform bending soft actuator',\n",
    "    'bi-directional bellow type 2 dof folding soft actuator',\n",
    "    'articulated zigzag fold-based 1dof directional bending soft actuator',\n",
    "    'concentric ring fold-based 2dof adaptive bending soft actuator',\n",
    "    'longitudinal rib fold-based 1dof linear soft actuator',\n",
    "    'angular segmented variable length 1dof bending soft actuator',\n",
    "    'variable geometry dome shaped 2dof soft actuator',\n",
    "    'multi-segmented accordion fold 1dof dynamic bending soft actuator',\n",
    "    'tight coil spiral 1dof compact bending soft actuator',\n",
    "    'uniform bellow type 1dof extensive bending soft actuator',\n",
    "    'articulated strip fold-based 1dof precise bending soft actuator',\n",
    "    'short cylindrical segmented 1dof pure bending soft actuator',\n",
    "    'multi-layer longitudinal fold-based 1dof bending soft actuator',\n",
    "    'segmented dome shaped variable 2dof bending soft actuator',\n",
    "    'adjustable pitch spiral 1dof soft actuator',\n",
    "    'accordion-style longitudinal 1dof flexible soft actuator',\n",
    "    'highly articulated cylindrical fold-based 2dof soft actuator',\n",
    "    'radial pleat fold-based 1dof adaptive bending soft actuator',\n",
    "    'compact dome shaped 2dof bidirectional bending soft actuator',\n",
    "    'expandable zigzag segmented 1dof bending soft actuator',\n",
    "    'variable geometry bellow type 1dof bending soft actuator',\n",
    "    'layered linear segmented 1dof soft actuator',\n",
    "    'longitudinal rib-style 1dof dynamic bending soft actuator',\n",
    "    'miniature spiral fold-based 1dof variable bending soft actuator',\n",
    "    'extended accordion fold-based 1dof uniform bending soft actuator',\n",
    "    'articulated ribbon style 1dof adjustable bending soft actuator',\n",
    "    'zigzag pleated fold-based 1dof controlled bending soft actuator',\n",
    "    'compact dome shaped cylindrical fold 2dof soft actuator',\n",
    "    'wide-range spiral off-axis 1dof bending soft actuator',\n",
    "    'double helix style 2 dof rotational soft actuator',\n",
    "    'parallel segmented variable 1dof soft actuator',\n",
    "    'high precision cylindrical segmented 1dof bending soft actuator',\n",
    "    'triangular pleated variable 1dof bending soft actuator',\n",
    "    'multi-layer dome shaped fold-based 2dof complex bending soft actuator',\n",
    "    'adjustable longitudinal segmented 1dof soft actuator',\n",
    "    'variable length spiral fold-based 1dof soft actuator',\n",
    "    'helical pitch segmented 1dof adaptive bending soft actuator',\n",
    "    'dual-layer cylindrical fold-based 2dof precise bending soft actuator',\n",
    "    'articulated strip style 1dof dynamic bending soft actuator',\n",
    "    'perforated accordion fold-based 1dof soft actuator',\n",
    "    'compact spiral off-axis variable segmented 1dof soft actuator',\n",
    "    'elongated bellow type 1 dof pure bending soft actuator',\n",
    "    'high capacity spiral fold-based 1dof variable bending soft actuator',\n",
    "    'variable pitch bellow type 1dof soft actuator',\n",
    "    'segmented linear fold-based 1dof precise bending soft actuator',\n",
    "    'expandable cylindrical fold-based 1dof focused bending soft actuator',\n",
    "    'articulated square fold-based 2dof complex bending soft actuator',\n",
    "    'wide range spiral segmented 1dof bending soft actuator',\n",
    "    'short linear segmented 1dof precision bending soft actuator',\n",
    "    'longitudinal accordion-style 1dof elastic bending soft actuator',\n",
    "    'cross-linked dome shaped 2dof expansive bending soft actuator',\n",
    "    'dual-layer dome shaped fold-based 2dof variable bending soft actuator',\n",
    "    'segmented ribbon fold-based 1dof controlled bending soft actuator',\n",
    "    'narrow spiral off-axis segmented 1dof variable soft actuator',\n",
    "    'parallel pleat-based 1dof uniform bending soft actuator',\n",
    "    'bi-directional bellow type 2 dof folding soft actuator',\n",
    "    'articulated zigzag fold-based 1dof directional bending soft actuator',\n",
    "    'concentric ring fold-based 2dof adaptive bending soft actuator',\n",
    "    'longitudinal rib fold-based 1dof linear soft actuator',\n",
    "    'angular segmented variable length 1dof bending soft actuator',\n",
    "    'variable geometry dome shaped 2dof adaptive soft actuator',\n",
    "    'multi-segmented accordion fold 1dof dynamic bending soft actuator',\n",
    "    'tight coil spiral 1dof compact bending soft actuator',\n",
    "    'uniform bellow type 1dof extensive bending soft actuator',\n",
    "    'articulated strip fold-based 1dof precise bending soft actuator',\n",
    "    'short cylindrical segmented 1dof pure bending soft actuator',\n",
    "    'multi-layer longitudinal fold-based 1dof bending soft actuator',\n",
    "    'segmented dome shaped variable 2dof bending soft actuator'\n",
    "]\n",
    "print(f'Number of test actuator descriptions: {len(test_actuator_descriptions)}')"
   ]
  },
  {
   "cell_type": "code",
   "execution_count": 10,
   "metadata": {},
   "outputs": [
    {
     "name": "stdout",
     "output_type": "stream",
     "text": [
      "Number of test actuator descriptions: 100\n"
     ]
    }
   ],
   "source": [
    "test_actuator_descriptions = [\n",
    "'fold based 1 dof pure bending soft actuator',\n",
    "'bending with minor small slight extension soft actuator',\n",
    "'curved rounded bellow 1 dof pure bending soft actuator',\n",
    "'dome shaped cylindrical fold based increased bidirectional 2 dof bending soft actuator',\n",
    "'dome shaped cylindrical fold based normal bidirectional 2dof 2 section variable bending short soft actuator',\n",
    "'dome shaped cylindrical fold based normal bidirectional 2dof bending short soft actuator',\n",
    "'dome shaped cylindrical fold based normal bidirectional 2dof bending soft actuator',\n",
    "'dome shaped cylindrical fold based normal bidirectional 2dof variable bending short soft actuator',\n",
    "'flat fold based 1 dof pure bending soft actuator',\n",
    "'fold based 1 dof pure bending soft actuator',\n",
    "'fold based biased one sided bending half strain limiting base soft actuator',\n",
    "'fold based extension 1dof soft actuator',\n",
    "'fold based multi segmented modular bending with extension variable strain limiting base soft actuator',\n",
    "'fold based reduced variable bending triangle base soft actuator',\n",
    "'fold based twisting toroidal soft actuator',\n",
    "'long bellow type 1 dof pure bending soft actuator',\n",
    "'long bending with extension soft actuator',\n",
    "'long fold based 1 dof pure bending soft actuator',\n",
    "'low profile bellow type 1 dof bending soft actuator',\n",
    "'mixed dimension fold based variable pure bending soft actuator',\n",
    "'pure bending inner fold based 1dof soft actuator',\n",
    "'pure planar bidirectional bending fold based 2dof soft actuator',\n",
    "'pure planar inproportionate biased bidirectional bending fold based 2dof soft actuator',\n",
    "'short circular fold based 1 dof pure bending soft actuator',\n",
    "'short fold based 1 dof pure bending soft actuator',\n",
    "'short fold based pure bending 1dof soft actuator',\n",
    "'spiral off axis bending inner fold based 1dof soft actuator',\n",
    "'spiral off axis variable segmented bending inner fold based 1dof soft actuator',\n",
    "'3 dome shaped cylindrical fold based normal bidirectional 2dof variable bending short soft actuator',\n",
    "'4 dome shaped cylindrical fold based normal bidirectional 2dof variable bending short soft actuator',\n",
    "'5 dome shaped cylindrical fold based normal bidirectional 2dof variable bending short soft actuator',\n",
    "'6 dome shaped cylindrical fold based normal bidirectional 2dof variable bending short soft actuator',\n",
    "'7 dome shaped cylindrical fold based normal bidirectional 2dof variable bending short soft actuator',\n",
    "'dome shaped cylindrical fold based normal bidirectional 2dof bending soft actuator 4 folds short',\n",
    "'dome shaped cylindrical fold based normal bidirectional 2dof bending soft actuator 5 folds short',\n",
    "'dome shaped cylindrical fold based normal bidirectional 2dof bending soft actuator 6 folds short',\n",
    "'dome shaped cylindrical fold based normal bidirectional 2dof bending soft actuator 7 folds short',\n",
    "'dome shaped cylindrical fold based normal bidirectional 2dof bending soft actuator 8 folds long',\n",
    "'dome shaped cylindrical fold based normal bidirectional 2dof bending soft actuator 9 folds long',\n",
    "'dome shaped cylindrical fold based normal bidirectional 2dof bending soft actuator 10 folds long',\n",
    "'dome shaped cylindrical fold based normal bidirectional 2dof bending soft actuator 11 folds long',\n",
    "'fold based extension 1dof soft actuator 3 folds short',\n",
    "'fold based extension 1dof soft actuator 4 folds short',\n",
    "'fold based extension 1dof soft actuator 5 folds short',\n",
    "'fold based extension 1dof soft actuator 6 folds short',\n",
    "'fold based extension 1dof soft actuator 7 folds short',\n",
    "'fold based extension 1dof soft actuator 8 folds long',\n",
    "'fold based extension 1dof soft actuator 9 folds long',\n",
    "'fold based extension 1dof soft actuator 10 folds long',\n",
    "'fold based extension 1dof soft actuator 11 folds long',\n",
    "'fold based extension 1dof soft actuator 12 folds long',\n",
    "'fold based extension 1dof soft actuator 13 folds long',\n",
    "'long bellow type 1 dof pure bending 8 folds soft actuator',\n",
    "'short bellow type 1 dof pure bending 3 folds soft actuator',\n",
    "'short bellow type 1 dof pure bending 4 folds soft actuator',\n",
    "'short bellow type 1 dof pure bending 5 folds soft actuator',\n",
    "'short bellow type 1 dof pure bending 6 folds soft actuator',\n",
    "'short bellow type 1 dof pure bending 7 folds soft actuator',\n",
    "'pure planar 5 folds short inproportionate biased bidirectional bending fold based 2dof soft actuator',\n",
    "'pure planar 6 folds short inproportionate biased bidirectional bending fold based 2dof soft actuator',\n",
    "'pure planar 8 folds long inproportionate biased bidirectional bending fold based 2dof soft actuator',\n",
    "'pure planar 10 folds long inproportionate biased bidirectional bending fold based 2dof soft actuator',\n",
    "'pure planar 12 folds long inproportionate biased bidirectional bending fold based 2dof soft actuator',\n",
    "'pure planar 15 folds long inproportionate biased bidirectional bending fold based 2dof soft actuator',\n",
    "'pure planar inproportionate biased bidirectional bending fold based 2dof soft actuator 3 folds short',\n",
    "'pure planar inproportionate biased bidirectional bending fold based 2dof soft actuator 4 folds short',\n",
    "'pure planar inproportionate biased bidirectional bending fold based 2dof soft actuator 5 folds short',\n",
    "'pure planar inproportionate biased bidirectional bending fold based 2dof soft actuator 6 folds short',\n",
    "'pure planar inproportionate biased bidirectional bending fold based 2dof soft actuator 7 folds short',\n",
    "'pure planar inproportionate biased bidirectional bending fold based 2dof soft actuator 8 folds long',\n",
    "]\n",
    "print(f'Number of test actuator descriptions: {len(test_actuator_descriptions)}')"
   ]
  },
  {
   "cell_type": "code",
   "execution_count": 16,
   "metadata": {},
   "outputs": [
    {
     "name": "stdout",
     "output_type": "stream",
     "text": [
      "[101/101] Generating shape for \"segmented dome shaped variable 2dof bending soft actuator\"\n",
      "Data shape for DDIM sampling is (1, 3, 16, 16, 16), eta 0.0\n",
      "Running DDIM Sampling with 100 timesteps\n"
     ]
    },
    {
     "name": "stderr",
     "output_type": "stream",
     "text": [
      "DDIM Sampler:   0%|          | 0/100 [00:00<?, ?it/s]"
     ]
    },
    {
     "name": "stderr",
     "output_type": "stream",
     "text": [
      "DDIM Sampler: 100%|██████████| 100/100 [00:10<00:00,  9.21it/s]\n"
     ]
    },
    {
     "name": "stdout",
     "output_type": "stream",
     "text": [
      "Input: \"segmented dome shaped variable 2dof bending soft actuator\"\n"
     ]
    },
    {
     "data": {
      "image/gif": "[encoded data removed]",
      "text/plain": [
       "<IPython.core.display.Image object>"
      ]
     },
     "metadata": {},
     "output_type": "display_data"
    }
   ],
   "source": [
    "# txt2shape\n",
    "from pytorch3d.io import save_obj\n",
    "from IPython.display import clear_output\n",
    "from utils.util_3d import rotate_mesh\n",
    "\n",
    "base_out_dir = 'test_results_nopre_large_dset'\n",
    "if not os.path.exists(base_out_dir): os.makedirs(base_out_dir)\n",
    "gif_out_dir = f'{base_out_dir}/gif'\n",
    "if not os.path.exists(gif_out_dir): os.makedirs(gif_out_dir)\n",
    "obj_out_dir = f'{base_out_dir}/obj'\n",
    "if not os.path.exists(obj_out_dir): os.makedirs(obj_out_dir)\n",
    "\n",
    "for i, input_txt in enumerate(test_actuator_descriptions):\n",
    "    # clear notebook output, to avoid cluttering\n",
    "    clear_output()\n",
    "    print(f'[{i+1}/{len(test_actuator_descriptions)}] Generating shape for \"{input_txt}\"')\n",
    "\n",
    "    ngen = 1  # number of generated shapes\n",
    "    ddim_steps = 100\n",
    "    ddim_eta = 0.\n",
    "    uc_scale = 3.\n",
    "\n",
    "    sdf_gen = SDFusion.txt2shape(input_txt=input_txt, ngen=ngen, ddim_steps=ddim_steps, ddim_eta=ddim_eta, uc_scale=uc_scale)\n",
    "\n",
    "    mesh_gen = sdf_to_mesh(sdf_gen)\n",
    "\n",
    "    # vis as gif\n",
    "    gen_name = f'{gif_out_dir}/{i}-txt2shape-{input_txt}.gif'\n",
    "    save_mesh_as_gif(SDFusion.renderer, mesh_gen, nrow=3, out_name=gen_name)\n",
    "\n",
    "    print(f'Input: \"{input_txt}\"')\n",
    "    for name in [gen_name]:\n",
    "        display(ipy_image(name))\n",
    "\n",
    "    # save mesh as obj\n",
    "    obj_name = f'{obj_out_dir}/txt2shape-{input_txt}-{i}.obj'\n",
    "    save_obj(obj_name, mesh_gen.verts_list()[0], mesh_gen.faces_list()[0])\n",
    "\n",
    "    mesh_gen = rotate_mesh(mesh_gen, axis='x', angle=180)\n",
    "    gen_name = f'{gif_out_dir}/{i}-txt2shape-{input_txt}-upside-down.gif'\n",
    "    save_mesh_as_gif(SDFusion.renderer, mesh_gen, nrow=3, out_name=gen_name)"
   ]
  }
 ],
 "metadata": {
  "kernelspec": {
   "display_name": "sdf",
   "language": "python",
   "name": "python3"
  },
  "language_info": {
   "codemirror_mode": {
    "name": "ipython",
    "version": 3
   },
   "file_extension": ".py",
   "mimetype": "text/x-python",
   "name": "python",
   "nbconvert_exporter": "python",
   "pygments_lexer": "ipython3",
   "version": "3.8.19"
  },
  "vscode": {
   "interpreter": {
    "hash": "c9bb85e944c303a90ba1b7f3901817f7bc3ecb5f736863b2299a6fa67a7b3c89"
   }
  }
 },
 "nbformat": 4,
 "nbformat_minor": 2
}
